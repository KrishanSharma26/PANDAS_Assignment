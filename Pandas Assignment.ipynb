{
 "cells": [
  {
   "cell_type": "markdown",
   "metadata": {},
   "source": [
    "Q1"
   ]
  },
  {
   "cell_type": "code",
   "execution_count": 2,
   "metadata": {},
   "outputs": [
    {
     "name": "stdout",
     "output_type": "stream",
     "text": [
      "   product_id  customer_id product_category customer_segment  sales  discount  \\\n",
      "0          45          772                A                n    NaN       NaN   \n",
      "1          48          532                B                X  899.0  0.009975   \n",
      "2          65          911                B                X  156.0  0.016297   \n",
      "3          68          180                B                Y  695.0  0.053541   \n",
      "4          68          375                B                Y  948.0  0.259404   \n",
      "\n",
      "         date  \n",
      "0  2020-01-01  \n",
      "1  2020-01-02  \n",
      "2  2020-01-03  \n",
      "3  2020-01-04  \n",
      "4  2020-01-05  \n",
      "product_id            0\n",
      "customer_id           0\n",
      "product_category      0\n",
      "customer_segment      0\n",
      "sales               100\n",
      "discount             50\n",
      "date                  0\n",
      "dtype: int64\n",
      "product_id          0\n",
      "customer_id         0\n",
      "product_category    0\n",
      "customer_segment    0\n",
      "sales               0\n",
      "discount            0\n",
      "date                0\n",
      "dtype: int64\n"
     ]
    }
   ],
   "source": [
    "import pandas as pd\n",
    "df = pd.read_csv(\"sales_data.csv\")\n",
    "print(df.head())\n",
    "print(df.isnull().sum())\n",
    "df.dropna(inplace=True)\n",
    "print(df.isnull().sum())"
   ]
  },
  {
   "cell_type": "markdown",
   "metadata": {},
   "source": [
    "Q2"
   ]
  },
  {
   "cell_type": "code",
   "execution_count": 5,
   "metadata": {},
   "outputs": [
    {
     "name": "stdout",
     "output_type": "stream",
     "text": [
      "   product_category customer_segment  total_sales  Average Discount\n",
      "0                 A                X     440424.0          0.148002\n",
      "1                 A                Y     462462.0          0.147228\n",
      "2                 A                Z     477572.0          0.146314\n",
      "3                 A                n          0.0          0.102788\n",
      "4                 B                X     442252.0          0.148204\n",
      "5                 B                Y     458014.0          0.150827\n",
      "6                 B                Z     447916.0          0.149887\n",
      "7                 B                n          0.0          0.186255\n",
      "8                 C                X     483316.0          0.146352\n",
      "9                 C                Y     427770.0          0.149936\n",
      "10                C                Z     442071.0          0.147768\n",
      "11                C                n          0.0          0.148897\n",
      "12                D                X     443735.0          0.148648\n",
      "13                D                Y     454568.0          0.155352\n",
      "14                D                Z     446105.0          0.148963\n",
      "15                D                n          0.0          0.077061\n"
     ]
    }
   ],
   "source": [
    "import pandas as pd\n",
    "df = pd.read_csv(\"sales_data.csv\")\n",
    "grouped_data = df.groupby(['product_category', 'customer_segment']).agg({'sales': 'sum', 'discount': 'mean'}).reset_index()\n",
    "grouped_data.rename(columns={'sales': 'total_sales', 'discount': 'Average Discount'}, inplace=True)\n",
    "print(grouped_data)"
   ]
  },
  {
   "cell_type": "markdown",
   "metadata": {},
   "source": [
    "Q3"
   ]
  },
  {
   "cell_type": "code",
   "execution_count": 13,
   "metadata": {},
   "outputs": [
    {
     "name": "stdout",
     "output_type": "stream",
     "text": [
      "Merged DataFrame:\n",
      "      product_id  customer_id product_category customer_segment  sales  \\\n",
      "0             45          772                A                n    NaN   \n",
      "1             48          532                B                X  899.0   \n",
      "2             65          911                B                X  156.0   \n",
      "3             68          180                B                Y  695.0   \n",
      "4             68          375                B                Y  948.0   \n",
      "...          ...          ...              ...              ...    ...   \n",
      "9995          52          355                C                X  451.0   \n",
      "9996          74          322                B                Y  363.0   \n",
      "9997          38          763                B                X  889.0   \n",
      "9998          26           31                A                X  703.0   \n",
      "9999          46          816                D                Y  149.0   \n",
      "\n",
      "      discount        date Product Name category  \n",
      "0          NaN  2020-01-01          NaN      NaN  \n",
      "1     0.009975  2020-01-02          NaN      NaN  \n",
      "2     0.016297  2020-01-03          NaN      NaN  \n",
      "3     0.053541  2020-01-04          NaN      NaN  \n",
      "4     0.259404  2020-01-05          NaN      NaN  \n",
      "...        ...         ...          ...      ...  \n",
      "9995  0.279545  2047-05-14          NaN      NaN  \n",
      "9996  0.199699  2047-05-15          NaN      NaN  \n",
      "9997  0.163797  2047-05-16          NaN      NaN  \n",
      "9998  0.259372  2047-05-17          NaN      NaN  \n",
      "9999  0.093816  2047-05-18          NaN      NaN  \n",
      "\n",
      "[10000 rows x 9 columns]\n"
     ]
    }
   ],
   "source": [
    "import pandas as pd\n",
    "df = pd.read_csv(\"sales_data.csv\")\n",
    "pd_data = pd.DataFrame({\n",
    "    'product_id': [110, 1115, 120],\n",
    "    'Product Name': ['product E', 'product G', 'product H'],\n",
    "    'category': ['category A', 'category B', 'category C']\n",
    "})\n",
    "merged_data = pd.merge(df, pd_data, on='product_id', how='left')\n",
    "print(\"Merged DataFrame:\")\n",
    "print(merged_data)\n"
   ]
  },
  {
   "cell_type": "markdown",
   "metadata": {},
   "source": [
    "Q4"
   ]
  },
  {
   "cell_type": "code",
   "execution_count": null,
   "metadata": {},
   "outputs": [],
   "source": []
  }
 ],
 "metadata": {
  "kernelspec": {
   "display_name": "Python 3",
   "language": "python",
   "name": "python3"
  },
  "language_info": {
   "codemirror_mode": {
    "name": "ipython",
    "version": 3
   },
   "file_extension": ".py",
   "mimetype": "text/x-python",
   "name": "python",
   "nbconvert_exporter": "python",
   "pygments_lexer": "ipython3",
   "version": "3.12.2"
  }
 },
 "nbformat": 4,
 "nbformat_minor": 2
}
